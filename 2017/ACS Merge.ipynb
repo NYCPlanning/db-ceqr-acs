{
 "cells": [
  {
   "cell_type": "code",
   "execution_count": 1,
   "metadata": {
    "collapsed": true
   },
   "outputs": [],
   "source": [
    "import pandas as pd"
   ]
  },
  {
   "cell_type": "code",
   "execution_count": 4,
   "metadata": {
    "collapsed": true
   },
   "outputs": [],
   "source": [
    "boros = ['bk', 'bx', 'mn', 'qn', 'si']"
   ]
  },
  {
   "cell_type": "code",
   "execution_count": 14,
   "metadata": {
    "collapsed": false
   },
   "outputs": [],
   "source": [
    "for b in boros:\n",
    "    exec('%s_pop   = pd.read_csv(\"sources/%s/ACS_17_5YR_B01003_with_ann.csv\", header=[0,1])' %(b,b))\n",
    "    exec('%s_trans = pd.read_csv(\"sources/%s/ACS_17_5YR_B08301_with_ann.csv\", header=[0,1])' %(b,b))"
   ]
  },
  {
   "cell_type": "code",
   "execution_count": 20,
   "metadata": {
    "collapsed": false
   },
   "outputs": [],
   "source": [
    "pop   = pd.concat([bk_pop, bx_pop, mn_pop, qn_pop, si_pop], ignore_index=True)\n",
    "trans = pd.concat([bk_trans, bx_trans, mn_trans, qn_trans, si_trans], ignore_index=True)"
   ]
  },
  {
   "cell_type": "code",
   "execution_count": 32,
   "metadata": {
    "collapsed": false
   },
   "outputs": [
    {
     "data": {
      "text/plain": [
       "MultiIndex(levels=[['GEO.display-label', 'GEO.id', 'GEO.id2', 'HD01_VD01', 'HD02_VD01'], ['Estimate; Total', 'Geography', 'Id', 'Id2', 'Margin of Error; Total']],\n",
       "           labels=[[1, 2, 0, 3, 4], [2, 3, 1, 0, 4]])"
      ]
     },
     "execution_count": 32,
     "metadata": {},
     "output_type": "execute_result"
    }
   ],
   "source": [
    "pop.columns"
   ]
  },
  {
   "cell_type": "code",
   "execution_count": 80,
   "metadata": {
    "collapsed": false
   },
   "outputs": [],
   "source": [
    "pop['variable'] = \"population\""
   ]
  },
  {
   "cell_type": "code",
   "execution_count": 81,
   "metadata": {
    "collapsed": false
   },
   "outputs": [
    {
     "data": {
      "text/plain": [
       "array([[36047000100, 4116, 366, 'population'],\n",
       "       [36047000200, 1506, 264, 'population'],\n",
       "       [36047000301, 4340, 480, 'population'],\n",
       "       ..., \n",
       "       [36085031902, 5140, 558, 'population'],\n",
       "       [36085032300, 1136, 130, 'population'],\n",
       "       [36085990100, 0, 11, 'population']], dtype=object)"
      ]
     },
     "execution_count": 81,
     "metadata": {},
     "output_type": "execute_result"
    }
   ],
   "source": [
    "pop.iloc[:,[1,3,4,5]].values"
   ]
  },
  {
   "cell_type": "code",
   "execution_count": 84,
   "metadata": {
    "collapsed": false
   },
   "outputs": [],
   "source": [
    "nyc_acs = pd.DataFrame(\n",
    "    data=pop.iloc[:,[1,3,4,5]].values,\n",
    "    columns=['geoid', 'value', 'moe', 'variable']\n",
    ")"
   ]
  },
  {
   "cell_type": "markdown",
   "metadata": {},
   "source": [
    "## Transportation"
   ]
  },
  {
   "cell_type": "code",
   "execution_count": 99,
   "metadata": {
    "collapsed": false
   },
   "outputs": [],
   "source": [
    "variables = [\n",
    "    'Total:',\n",
    "    'Car, truck, or van:',\n",
    "    'Car, truck, or van: - Drove alone',\n",
    "    'Car, truck, or van: - Carpooled',\n",
    "    'Car, truck, or van: - Carpooled: - In 2-person carpool',\n",
    "    'Car, truck, or van: - Carpooled: - In 3-person carpool',\n",
    "    'Car, truck, or van: - Carpooled: - In 4-person carpool',\n",
    "    'Car, truck, or van: - Carpooled: - In 5- or 6-person carpool',\n",
    "    'Car, truck, or van: - Carpooled: - In 7-or-more-person carpool',\n",
    "    'Public transportation (excluding taxicab):',\n",
    "    'Public transportation (excluding taxicab): - Bus or trolley bus',\n",
    "    'Public transportation (excluding taxicab): - Streetcar or trolley car (carro publico in Puerto Rico)',\n",
    "    'Public transportation (excluding taxicab): - Subway or elevated',\n",
    "    'Public transportation (excluding taxicab): - Railroad',\n",
    "    'Public transportation (excluding taxicab): - Ferryboat',\n",
    "    'Taxicab',\n",
    "    'Motorcycle',\n",
    "    'Bicycle',\n",
    "    'Walked',\n",
    "    'Other means',\n",
    "    'Worked at home'\n",
    "]"
   ]
  },
  {
   "cell_type": "code",
   "execution_count": 132,
   "metadata": {
    "collapsed": false
   },
   "outputs": [],
   "source": [
    "trans_acs = pd.DataFrame(columns=['geoid', 'value', 'moe', 'variable'])"
   ]
  },
  {
   "cell_type": "code",
   "execution_count": 133,
   "metadata": {
    "collapsed": false
   },
   "outputs": [],
   "source": [
    "for v in variables:\n",
    "    exec(\"temp_df = trans.loc[:, ['Id2', 'Estimate; %s', 'Margin of Error; %s']]\" %(v,v))\n",
    "    temp_df['variable'] = v\n",
    "    \n",
    "    trans_acs = pd.concat([trans_acs, pd.DataFrame(\n",
    "        data=temp_df.values,\n",
    "        columns=['geoid', 'value', 'moe', 'variable']\n",
    "    )], ignore_index=True)"
   ]
  },
  {
   "cell_type": "code",
   "execution_count": 146,
   "metadata": {
    "collapsed": false
   },
   "outputs": [],
   "source": [
    "trans_acs.replace(to_replace={\n",
    "    'Total:': 'trans_total',\n",
    "    'Car, truck, or van:': 'trans_auto_total',\n",
    "    'Car, truck, or van: - Drove alone': 'trans_auto_solo',\n",
    "    'Car, truck, or van: - Carpooled': 'trans_auto_carpool_total',\n",
    "    'Car, truck, or van: - Carpooled: - In 2-person carpool': 'trans_auto_2',\n",
    "    'Car, truck, or van: - Carpooled: - In 3-person carpool': 'trans_auto_3',\n",
    "    'Car, truck, or van: - Carpooled: - In 4-person carpool': 'trans_auto_4',\n",
    "    'Car, truck, or van: - Carpooled: - In 5- or 6-person carpool': 'trans_auto_5_or_6',\n",
    "    'Car, truck, or van: - Carpooled: - In 7-or-more-person carpool': 'trans_auto_7_or_more',\n",
    "    'Public transportation (excluding taxicab):': 'trans_public_total',\n",
    "    'Public transportation (excluding taxicab): - Bus or trolley bus': 'trans_public_bus',\n",
    "    'Public transportation (excluding taxicab): - Streetcar or trolley car (carro publico in Puerto Rico)': 'trans_public_streetcar',\n",
    "    'Public transportation (excluding taxicab): - Subway or elevated': 'trans_public_subway',\n",
    "    'Public transportation (excluding taxicab): - Railroad': 'trans_public_rail',\n",
    "    'Public transportation (excluding taxicab): - Ferryboat': 'trans_public_ferry',\n",
    "    'Taxicab': 'trans_taxi',\n",
    "    'Motorcycle': 'trans_motorcycle',\n",
    "    'Bicycle': 'trans_bicycle',\n",
    "    'Walked': 'trans_walk',\n",
    "    'Other means': 'trans_other',\n",
    "    'Worked at home': 'trans_home'\n",
    "}, inplace=True)"
   ]
  },
  {
   "cell_type": "code",
   "execution_count": 147,
   "metadata": {
    "collapsed": true
   },
   "outputs": [],
   "source": [
    "pd.concat([trans_acs, nyc_acs], ignore_index=True).to_csv('nyc_acs.csv')"
   ]
  },
  {
   "cell_type": "code",
   "execution_count": null,
   "metadata": {
    "collapsed": true
   },
   "outputs": [],
   "source": []
  }
 ],
 "metadata": {
  "kernelspec": {
   "display_name": "Python 3",
   "language": "python",
   "name": "python3"
  },
  "language_info": {
   "codemirror_mode": {
    "name": "ipython",
    "version": 3
   },
   "file_extension": ".py",
   "mimetype": "text/x-python",
   "name": "python",
   "nbconvert_exporter": "python",
   "pygments_lexer": "ipython3",
   "version": "3.5.2"
  }
 },
 "nbformat": 4,
 "nbformat_minor": 2
}
